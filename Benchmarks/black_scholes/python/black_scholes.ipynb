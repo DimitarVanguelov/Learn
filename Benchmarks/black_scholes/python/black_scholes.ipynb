{
 "cells": [
  {
   "cell_type": "code",
   "execution_count": 30,
   "source": [
    "from scipy import stats\n",
    "import math"
   ],
   "outputs": [],
   "metadata": {}
  },
  {
   "cell_type": "code",
   "execution_count": 31,
   "source": [
    "def d1(S,K,τ,r,σ):\n",
    "\treturn (math.log(S/K) + (r + σ**2/2) * τ) / (σ * math.sqrt(τ))\n"
   ],
   "outputs": [],
   "metadata": {}
  },
  {
   "cell_type": "code",
   "execution_count": 29,
   "source": [
    "d1(S,K,τ,r,σ)"
   ],
   "outputs": [
    {
     "output_type": "execute_result",
     "data": {
      "text/plain": [
       "1.4904770452930305"
      ]
     },
     "metadata": {},
     "execution_count": 29
    }
   ],
   "metadata": {}
  },
  {
   "cell_type": "code",
   "execution_count": 33,
   "source": [
    "d1(300,250,1,0.15,0.03)"
   ],
   "outputs": [
    {
     "output_type": "execute_result",
     "data": {
      "text/plain": [
       "11.092385226465154"
      ]
     },
     "metadata": {},
     "execution_count": 33
    }
   ],
   "metadata": {}
  },
  {
   "cell_type": "code",
   "execution_count": 35,
   "source": [
    "S,K,τ,r,σ"
   ],
   "outputs": [
    {
     "output_type": "execute_result",
     "data": {
      "text/plain": [
       "(300, 250, 1, 0.03, 0.15)"
      ]
     },
     "metadata": {},
     "execution_count": 35
    }
   ],
   "metadata": {}
  },
  {
   "cell_type": "code",
   "execution_count": 25,
   "source": [
    "def d2(S,K,τ,r,σ):\n",
    "\treturn d1(S,K,τ,r,σ) - σ * math.sqrt(τ)"
   ],
   "outputs": [],
   "metadata": {}
  },
  {
   "cell_type": "code",
   "execution_count": 26,
   "source": [
    "def Call(S,K,τ,r,σ):\n",
    "\tN = lambda x: stats.norm().cdf(x)\n",
    "\td_1 = d1(S,K,τ,r,σ)\n",
    "\td_2 = d2(S,K,τ,r,σ)\n",
    "\treturn N(d_1)*S - N(d_2) * K * math.exp(-r*τ)\n",
    "\t"
   ],
   "outputs": [],
   "metadata": {}
  },
  {
   "cell_type": "code",
   "execution_count": 5,
   "source": [
    "\tS = 300\n",
    "\tK = 250\n",
    "\tτ = 1\n",
    "\tσ = 0.15\n",
    "\tr = 0.03"
   ],
   "outputs": [],
   "metadata": {}
  },
  {
   "cell_type": "code",
   "execution_count": 6,
   "source": [
    "Call(S,K,τ,r,σ)\n"
   ],
   "outputs": [
    {
     "output_type": "execute_result",
     "data": {
      "text/plain": [
       "58.81976813699322"
      ]
     },
     "metadata": {},
     "execution_count": 6
    }
   ],
   "metadata": {}
  },
  {
   "cell_type": "code",
   "execution_count": 7,
   "source": [
    "%%timeit S = 300;K = 250;τ = 1;σ = 0.15;r = 0.03\n",
    "Call(S,K,τ,r,σ)\n"
   ],
   "outputs": [
    {
     "output_type": "stream",
     "name": "stdout",
     "text": [
      "816 µs ± 20.2 µs per loop (mean ± std. dev. of 7 runs, 1000 loops each)\n"
     ]
    }
   ],
   "metadata": {}
  },
  {
   "cell_type": "code",
   "execution_count": 8,
   "source": [
    "%timeit Call(S,K,τ,r,σ)"
   ],
   "outputs": [
    {
     "output_type": "stream",
     "name": "stdout",
     "text": [
      "808 µs ± 22.3 µs per loop (mean ± std. dev. of 7 runs, 1000 loops each)\n"
     ]
    }
   ],
   "metadata": {}
  },
  {
   "cell_type": "code",
   "execution_count": 9,
   "source": [
    "import sys\n",
    "sys.implementation"
   ],
   "outputs": [
    {
     "output_type": "execute_result",
     "data": {
      "text/plain": [
       "namespace(name='cpython',\n",
       "          cache_tag='cpython-38',\n",
       "          version=sys.version_info(major=3, minor=8, micro=8, releaselevel='final', serial=0),\n",
       "          hexversion=50858224,\n",
       "          _multiarch='darwin')"
      ]
     },
     "metadata": {},
     "execution_count": 9
    }
   ],
   "metadata": {}
  },
  {
   "cell_type": "code",
   "execution_count": 10,
   "source": [
    "sys.version"
   ],
   "outputs": [
    {
     "output_type": "execute_result",
     "data": {
      "text/plain": [
       "'3.8.8 (default, Apr 13 2021, 12:59:45) \\n[Clang 10.0.0 ]'"
      ]
     },
     "metadata": {},
     "execution_count": 10
    }
   ],
   "metadata": {}
  },
  {
   "cell_type": "code",
   "execution_count": 11,
   "source": [
    "import numpy as np"
   ],
   "outputs": [],
   "metadata": {}
  },
  {
   "cell_type": "code",
   "execution_count": 12,
   "source": [
    "def d1_np(S,K,τ,r,σ):\n",
    "\treturn (np.log(S/K) + (r + σ**2/2) * τ) / (σ * np.sqrt(τ))\n"
   ],
   "outputs": [],
   "metadata": {}
  },
  {
   "cell_type": "code",
   "execution_count": 17,
   "source": [
    "def d2_np(S,K,τ,r,σ):\n",
    "\treturn d1(S,K,τ,r,σ) - σ * np.sqrt(τ)"
   ],
   "outputs": [],
   "metadata": {}
  },
  {
   "cell_type": "code",
   "execution_count": 15,
   "source": [
    "def Call_np(S,K,τ,r,σ):\n",
    "\tN = lambda x: stats.norm().cdf(x)\n",
    "\td_1 = d1_np(S,K,τ,r,σ)\n",
    "\td_2 = d2_np(S,K,τ,r,σ)\n",
    "\treturn N(d_1)*S - N(d_2) * K * np.exp(-r*τ)\n",
    "\t"
   ],
   "outputs": [],
   "metadata": {}
  },
  {
   "cell_type": "code",
   "execution_count": 18,
   "source": [
    "%timeit Call_np(S,K,τ,r,σ)"
   ],
   "outputs": [
    {
     "output_type": "stream",
     "name": "stdout",
     "text": [
      "810 µs ± 2.74 µs per loop (mean ± std. dev. of 7 runs, 1000 loops each)\n"
     ]
    }
   ],
   "metadata": {}
  },
  {
   "cell_type": "code",
   "execution_count": null,
   "source": [],
   "outputs": [],
   "metadata": {}
  }
 ],
 "metadata": {
  "orig_nbformat": 4,
  "language_info": {
   "name": "python",
   "version": "3.8.8",
   "mimetype": "text/x-python",
   "codemirror_mode": {
    "name": "ipython",
    "version": 3
   },
   "pygments_lexer": "ipython3",
   "nbconvert_exporter": "python",
   "file_extension": ".py"
  },
  "kernelspec": {
   "name": "python3",
   "display_name": "Python 3.8.8 64-bit ('base': conda)"
  },
  "interpreter": {
   "hash": "b64057e63add2b45b1ffc7eab9b09c8889b419c878e2fdf0d08f837f0fc857a7"
  }
 },
 "nbformat": 4,
 "nbformat_minor": 2
}